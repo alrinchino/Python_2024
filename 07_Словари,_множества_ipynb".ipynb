{
  "cells": [
    {
      "cell_type": "markdown",
      "metadata": {
        "id": "view-in-github",
        "colab_type": "text"
      },
      "source": [
        "<a href=\"https://colab.research.google.com/github/alrinchino/Python_2024/blob/main/07_%D0%A1%D0%BB%D0%BE%D0%B2%D0%B0%D1%80%D0%B8%2C_%D0%BC%D0%BD%D0%BE%D0%B6%D0%B5%D1%81%D1%82%D0%B2%D0%B0_ipynb%22.ipynb\" target=\"_parent\"><img src=\"https://colab.research.google.com/assets/colab-badge.svg\" alt=\"Open In Colab\"/></a>"
      ]
    },
    {
      "cell_type": "markdown",
      "metadata": {
        "id": "D_lNZbxDiZRv"
      },
      "source": [
        "## 6. Словари\n",
        "\n",
        "Словарь -- это структура данных, которая представляет отображение из одного типа данных в другой. Представляет собой набор пар ключ-значение, в качестве ключа могут выступать immutable типы данных (int, str, tuple, ...)\n",
        "\n",
        "Словарь -- универсальное средство для выражения связей между объектами, подсчёта, группировки.\n",
        "\n",
        "Массивы, которые мы до этого рассматривали, были отображением непрерывного отрезка [0, n] в другой тип данных. `dict` может быть гораздо удобнее, когда нужно использовать в качестве ключа другой тип данных (например, сопоставить именам людей (str) их даты рождения) или когда в качестве ключа хочется использовать int, но не все значения из промежутка [0, n] нужны. Например, если хочется сопоставить года рождения великих писателей их именам.\n",
        "\n",
        "Поэтому словари иногда называют **ассоциативными массивами или хеш-таблицами**."
      ]
    },
    {
      "cell_type": "code",
      "source": [],
      "metadata": {
        "id": "ZubbeGUDc_57"
      },
      "execution_count": null,
      "outputs": []
    },
    {
      "cell_type": "markdown",
      "metadata": {
        "id": "8932e00a"
      },
      "source": [
        "Пустой словарь можно создать либо с помощью `{}`, либо с `dict()`:"
      ]
    },
    {
      "cell_type": "code",
      "execution_count": null,
      "metadata": {
        "id": "0c09084b"
      },
      "outputs": [],
      "source": [
        "d = {}\n",
        "dd = dict()\n",
        "\n",
        "print(d == dd, '|', type(d))"
      ]
    },
    {
      "cell_type": "markdown",
      "metadata": {
        "id": "874fd06f"
      },
      "source": [
        "Добавим значение value по ключу key в словарь:"
      ]
    },
    {
      "cell_type": "code",
      "execution_count": null,
      "metadata": {
        "id": "3f92b07b"
      },
      "outputs": [],
      "source": [
        "key = 'a'\n",
        "value = 100\n",
        "\n",
        "d[key] = value\n",
        "d"
      ]
    },
    {
      "cell_type": "markdown",
      "metadata": {
        "id": "3d1606e6"
      },
      "source": [
        "Непустой словарь можно создать несколькими способами:"
      ]
    },
    {
      "cell_type": "code",
      "execution_count": null,
      "metadata": {
        "id": "5614ab9c"
      },
      "outputs": [],
      "source": [
        "d = {\n",
        "    'short': 'dict',\n",
        "    'long': 'dictionary'\n",
        "}\n",
        "d"
      ]
    },
    {
      "cell_type": "code",
      "execution_count": null,
      "metadata": {
        "id": "3a9c58bc"
      },
      "outputs": [],
      "source": [
        "d = dict(short='dict', long='dictionary')\n",
        "d"
      ]
    },
    {
      "cell_type": "code",
      "execution_count": null,
      "metadata": {
        "id": "717dd0ce"
      },
      "outputs": [],
      "source": [
        "d = dict([(1, 1), (2, 4)])\n",
        "d"
      ]
    },
    {
      "cell_type": "markdown",
      "metadata": {
        "id": "64faf7e0"
      },
      "source": [
        "Создать дефолтный словарь с ключами из списка, значениями None:"
      ]
    },
    {
      "cell_type": "code",
      "execution_count": null,
      "metadata": {
        "id": "b99100cb"
      },
      "outputs": [],
      "source": [
        "d = dict.fromkeys(['a', 'b'])\n",
        "d"
      ]
    },
    {
      "cell_type": "markdown",
      "metadata": {
        "id": "fc884afa"
      },
      "source": [
        "Создать дефолтный словарь с ключами из списка, всеми значениями по умолчанию 100:"
      ]
    },
    {
      "cell_type": "code",
      "execution_count": null,
      "metadata": {
        "id": "6e02c152"
      },
      "outputs": [],
      "source": [
        "d = dict.fromkeys(['a', 'b'], 100)\n",
        "d"
      ]
    },
    {
      "cell_type": "code",
      "execution_count": null,
      "metadata": {
        "id": "nLX7YcR-iZRv",
        "outputId": "68081832-bd52-4d8f-cbac-f5533e529db7"
      },
      "outputs": [
        {
          "data": {
            "text/plain": [
              "{'Key1': 'Value1', 'Key2': 'Value2'}"
            ]
          },
          "execution_count": 1,
          "metadata": {},
          "output_type": "execute_result"
        }
      ],
      "source": [
        "a = {'Key1' : 'Value1', 'Key2' : 'Value2'}\n",
        "a"
      ]
    },
    {
      "cell_type": "code",
      "execution_count": null,
      "metadata": {
        "id": "uwgEGX2liZRv",
        "outputId": "8f274d81-fc0b-403f-aad5-ed6c4ba57a74"
      },
      "outputs": [
        {
          "data": {
            "text/plain": [
              "{1: 1, 2: 4, 3: 9}"
            ]
          },
          "execution_count": 2,
          "metadata": {},
          "output_type": "execute_result"
        }
      ],
      "source": [
        "b = dict([(1, 1), (2, 4), (3, 9)])\n",
        "b"
      ]
    },
    {
      "cell_type": "markdown",
      "metadata": {
        "id": "jn3HVZI4iZRv"
      },
      "source": [
        "Ключом словаря может быть любой hashable-объект. (mutable == not hashable)\n",
        "\n",
        "Определение hashable из документации Python: https://docs.python.org/3/glossary.html#term-hashable\n",
        "\n",
        "Если коротко, то у объекта должен быть правильно определен метод `__hash__()`"
      ]
    },
    {
      "cell_type": "markdown",
      "metadata": {
        "id": "iu-LULQdiZRv"
      },
      "source": [
        "Хэш от инта - само значение инта\n",
        "\n",
        "All of Python’s immutable built-in objects are hashable; mutable containers (such as lists or dictionaries) are not. Objects which are instances of user-defined classes are hashable by default. They all compare unequal (except with themselves), and their hash value is derived from their id()."
      ]
    },
    {
      "cell_type": "code",
      "execution_count": null,
      "metadata": {
        "id": "8XsxX1IZiZRw",
        "outputId": "ce118711-5802-429d-a5d6-112990def521"
      },
      "outputs": [
        {
          "name": "stdout",
          "output_type": "stream",
          "text": [
            "343\n",
            "1\n"
          ]
        },
        {
          "data": {
            "text/plain": [
              "-4283234814681434623"
            ]
          },
          "execution_count": 10,
          "metadata": {},
          "output_type": "execute_result"
        }
      ],
      "source": [
        "print(hash(343))\n",
        "print(hash(True))\n",
        "hash('hello')"
      ]
    },
    {
      "cell_type": "code",
      "execution_count": null,
      "metadata": {
        "id": "qqs9mQW4iZRw",
        "outputId": "a737035a-d54e-4fbf-ac5c-8560d20b89ed"
      },
      "outputs": [
        {
          "data": {
            "text/plain": [
              "1152921504606846982"
            ]
          },
          "execution_count": 4,
          "metadata": {},
          "output_type": "execute_result"
        }
      ],
      "source": [
        "hash(6.5) # есть тонкости, связанные с точностью представления чисел с плавающей запятой\n",
        "          # месседж: нужно быть очень аккуратным с хэшированием float и лучше их вообще не хэшировать\n",
        "hash(round(6.50443,2)) # или хэшировать вот так"
      ]
    },
    {
      "cell_type": "code",
      "execution_count": null,
      "metadata": {
        "id": "ESTI8tWOiZRw",
        "outputId": "f94faea4-1ad8-43f4-b933-83032e00b3ac"
      },
      "outputs": [
        {
          "name": "stdout",
          "output_type": "stream",
          "text": [
            "-5604296508917805270\n",
            "-8333015767918374177\n"
          ]
        }
      ],
      "source": [
        "print(hash('aaa'))\n",
        "print(hash('aab'))"
      ]
    },
    {
      "cell_type": "markdown",
      "metadata": {
        "id": "ROOtLb4liZRw"
      },
      "source": [
        "#### Note: после перезапуска интерпретатора у сложных объектов (например, строк) будет уже другое значение хэш-функции"
      ]
    },
    {
      "cell_type": "markdown",
      "metadata": {
        "id": "tzGPq-S0iZRw"
      },
      "source": [
        "list в Python не является хэшируемым объектом"
      ]
    },
    {
      "cell_type": "code",
      "execution_count": null,
      "metadata": {
        "id": "ORxlhPLFiZRw",
        "outputId": "29529240-867c-402b-b689-9d9836c28dbf"
      },
      "outputs": [
        {
          "data": {
            "text/plain": [
              "True"
            ]
          },
          "execution_count": 6,
          "metadata": {},
          "output_type": "execute_result"
        }
      ],
      "source": [
        "[1].__hash__ is None  # метод __hash__ не определен для списка"
      ]
    },
    {
      "cell_type": "markdown",
      "metadata": {
        "id": "CysyOIBsiZRx"
      },
      "source": [
        "Можно ли использовать словарь в качестве ключа словаря?"
      ]
    },
    {
      "cell_type": "code",
      "execution_count": null,
      "metadata": {
        "id": "gutfswWJiZRx",
        "outputId": "97df7b54-7a39-4392-d2aa-fc637cd78e08"
      },
      "outputs": [
        {
          "ename": "TypeError",
          "evalue": "unhashable type: 'dict'",
          "output_type": "error",
          "traceback": [
            "\u001b[0;31m---------------------------------------------------------------------------\u001b[0m",
            "\u001b[0;31mTypeError\u001b[0m                                 Traceback (most recent call last)",
            "Cell \u001b[0;32mIn [7], line 2\u001b[0m\n\u001b[1;32m      1\u001b[0m d1 \u001b[38;5;241m=\u001b[39m {\u001b[38;5;241m1\u001b[39m: \u001b[38;5;124m'\u001b[39m\u001b[38;5;124mb\u001b[39m\u001b[38;5;124m'\u001b[39m}\n\u001b[0;32m----> 2\u001b[0m d2 \u001b[38;5;241m=\u001b[39m {d1: \u001b[38;5;124m'\u001b[39m\u001b[38;5;124mabc\u001b[39m\u001b[38;5;124m'\u001b[39m}\n",
            "\u001b[0;31mTypeError\u001b[0m: unhashable type: 'dict'"
          ]
        }
      ],
      "source": [
        "d1 = {1: 'b'}\n",
        "d2 = {d1: 'abc'}"
      ]
    },
    {
      "cell_type": "code",
      "execution_count": null,
      "metadata": {
        "id": "Ntd_RkjliZRx",
        "outputId": "da07a818-6053-45c9-dafa-3e36a8f6553d"
      },
      "outputs": [
        {
          "data": {
            "text/plain": [
              "True"
            ]
          },
          "execution_count": 8,
          "metadata": {},
          "output_type": "execute_result"
        }
      ],
      "source": [
        "{1: 'b'}.__hash__ is None  # dict тоже не является хэшируемым"
      ]
    },
    {
      "cell_type": "markdown",
      "metadata": {
        "id": "9LZzfUH7iZRx"
      },
      "source": [
        "По словарю можно итерироваться, причем как по ключам, так и по значениям"
      ]
    },
    {
      "cell_type": "code",
      "execution_count": null,
      "metadata": {
        "id": "zg-qLjpXiZRx",
        "outputId": "d79c58d7-4cb2-46dc-c85f-fd21e41ad0ee"
      },
      "outputs": [
        {
          "name": "stdout",
          "output_type": "stream",
          "text": [
            "a\n",
            "b\n",
            "c\n",
            "\n",
            "a\n",
            "b\n",
            "c\n"
          ]
        }
      ],
      "source": [
        "# итерация по словарю\n",
        "dictionary = {'a': 1, 'b': 2, 'c': 3}\n",
        "\n",
        "for k in dictionary.keys():\n",
        "    print(k)\n",
        "\n",
        "print()\n",
        "\n",
        "for k in dictionary:  # такая же итерация по ключам, но Python Zen говорит нам, что явное лучше, чем неявное\n",
        "    print(k)          # поэтому лучше явно прописать .keys(), чтобы улучшить читабельность кода\n",
        "                      # слишком читабельный код еще никогда никому не мешал"
      ]
    },
    {
      "cell_type": "code",
      "execution_count": null,
      "metadata": {
        "id": "UqoMFsb1iZRx",
        "outputId": "7411a2a5-6777-4ab5-c5dc-e832b394aed2"
      },
      "outputs": [
        {
          "name": "stdout",
          "output_type": "stream",
          "text": [
            "1\n",
            "2\n",
            "3\n"
          ]
        }
      ],
      "source": [
        "for v in dictionary.values(): # итерация по значениям\n",
        "    print(v)"
      ]
    },
    {
      "cell_type": "code",
      "execution_count": null,
      "metadata": {
        "id": "tSiAO3UkiZRy",
        "outputId": "a69afeea-8f46-472d-b98c-5f8c1d6dc974"
      },
      "outputs": [
        {
          "name": "stdout",
          "output_type": "stream",
          "text": [
            "('a', 1)\n",
            "('b', 2)\n",
            "('c', 3)\n",
            "a 1\n",
            "b 2\n",
            "c 3\n"
          ]
        }
      ],
      "source": [
        "for pair in dictionary.items(): # итерируемся сразу по парам (ключ: значение)\n",
        "    print(pair)\n",
        "\n",
        "\n",
        "for key, value in dictionary.items(): # итерируемся сразу по парам (ключ: значение)\n",
        "    print(key, value)"
      ]
    },
    {
      "cell_type": "code",
      "execution_count": null,
      "metadata": {
        "id": "_3pj_cyziZRy",
        "outputId": "e217a192-d5ab-4cf1-b544-365e2c4e5701"
      },
      "outputs": [
        {
          "name": "stdout",
          "output_type": "stream",
          "text": [
            "{'a': 1, 'b': 2, 'c': 3}\n"
          ]
        },
        {
          "data": {
            "text/plain": [
              "{'Petya': 20, 'Vasya': 21, 'Masha': 22, 'a': 4}"
            ]
          },
          "execution_count": 12,
          "metadata": {},
          "output_type": "execute_result"
        }
      ],
      "source": [
        "# конструкторы:\n",
        "a = dict(a=1, b=2, c=3)\n",
        "a\n",
        "print(a)\n",
        "keys = [\"Petya\", \"Vasya\", \"Masha\", \"a\"]\n",
        "values = [20, 21, 22, 4]\n",
        "\n",
        "dictionary = dict(zip(keys, values)) # один из самых удобных способов создания словаря из двух списков\n",
        "\n",
        "dictionary"
      ]
    },
    {
      "cell_type": "code",
      "execution_count": null,
      "metadata": {
        "id": "ejdDdylKiZRy",
        "outputId": "c326ee93-80cc-41fe-e013-afe93645bbe3"
      },
      "outputs": [
        {
          "name": "stdout",
          "output_type": "stream",
          "text": [
            "['a', 'b', 'c']\n",
            "[1, 2, 3]\n",
            "[('a', 1), ('b', 2), ('c', 3)]\n"
          ]
        }
      ],
      "source": [
        "print(list(a.keys()))\n",
        "print(list(a.values()))\n",
        "print(list(a.items()))"
      ]
    },
    {
      "cell_type": "code",
      "execution_count": null,
      "metadata": {
        "id": "Y5S48X4XiZRy",
        "outputId": "81ef0ecf-60d0-419c-c956-fde5221fe41d"
      },
      "outputs": [
        {
          "data": {
            "text/plain": [
              "{'Petya': 20, 'Masha': 22}"
            ]
          },
          "execution_count": 14,
          "metadata": {},
          "output_type": "execute_result"
        }
      ],
      "source": [
        "del dictionary['Vasya']\n",
        "dictionary"
      ]
    },
    {
      "cell_type": "code",
      "execution_count": null,
      "metadata": {
        "id": "p89-YItUiZRy",
        "outputId": "85c4aefa-16d4-4f7d-9574-1dadb3e8a00b"
      },
      "outputs": [
        {
          "data": {
            "text/plain": [
              "{'a': 4, 'b': 2, 'c': 3, 'Petya': 20, 'Vasya': 21, 'Masha': 22}"
            ]
          },
          "execution_count": 13,
          "metadata": {},
          "output_type": "execute_result"
        }
      ],
      "source": [
        "a.update(dictionary)  # объединение двух словарей\n",
        "a"
      ]
    },
    {
      "cell_type": "code",
      "execution_count": null,
      "metadata": {
        "id": "BfyFfQPriZRy",
        "outputId": "4207214a-eb5b-47c8-d74e-320ecd1dd669"
      },
      "outputs": [
        {
          "data": {
            "text/plain": [
              "{'a': 1,\n",
              " 'b': 2,\n",
              " 'c': 3,\n",
              " 'Petya': 20,\n",
              " 'Masha': 22,\n",
              " ('Composite', 'Key'): [1, 2, 3]}"
            ]
          },
          "execution_count": 16,
          "metadata": {},
          "output_type": "execute_result"
        }
      ],
      "source": [
        "a[('Composite', 'Key')] = [1, 2, 3]   # only immutable objects could be keys in dicts\n",
        "a"
      ]
    },
    {
      "cell_type": "markdown",
      "metadata": {
        "id": "xd6e_WEEiZRz"
      },
      "source": [
        "### Помните генераторы списков (list comprehensions)? Cуществуют и генераторы словарей!"
      ]
    },
    {
      "cell_type": "code",
      "execution_count": null,
      "metadata": {
        "id": "lTAszFDUiZRz",
        "outputId": "ac9a7d8b-14d9-4417-cdd3-2898778f2043"
      },
      "outputs": [
        {
          "data": {
            "text/plain": [
              "{0: 0, 1: 1, 2: 8, 3: 27, 4: 64}"
            ]
          },
          "execution_count": 17,
          "metadata": {},
          "output_type": "execute_result"
        }
      ],
      "source": [
        "dct = {i : i ** 3 for i in range(5)}\n",
        "dct"
      ]
    },
    {
      "cell_type": "code",
      "execution_count": null,
      "metadata": {
        "id": "UEToINRaiZRz",
        "outputId": "fb534c46-06ee-48dc-fdeb-52688b98513b"
      },
      "outputs": [
        {
          "name": "stdout",
          "output_type": "stream",
          "text": [
            "{1: 2, 3: 4, 5: 'default'}\n",
            "not found default\n",
            "6 6\n"
          ]
        }
      ],
      "source": [
        "# Аккуратная обработка неизвестности\n",
        "\n",
        "dct = {1:2,3:4}\n",
        "\n",
        "key = 5\n",
        "\n",
        "res1 = dct.get(key,'not found')\n",
        "res2 = dct.setdefault(key, 'default')\n",
        "\n",
        "print(dct)\n",
        "print(res1, res2)\n",
        "\n",
        "dct = {1:2,3:4,5:6}\n",
        "\n",
        "res1 = dct.get(key,'not found')\n",
        "res2 = dct.setdefault(key, 'default')\n",
        "\n",
        "print(res1, res2)"
      ]
    },
    {
      "cell_type": "markdown",
      "metadata": {
        "id": "6ae0f840"
      },
      "source": [
        "Еще один способ объявления словаря: создадим словарь, где каждому целому числу от 0 до 6 поставим в соответствие квадрат этого числа:"
      ]
    },
    {
      "cell_type": "code",
      "execution_count": null,
      "metadata": {
        "id": "c09f626f"
      },
      "outputs": [],
      "source": [
        "d = {a: a ** 2 for a in range(7)}\n",
        "d"
      ]
    },
    {
      "cell_type": "markdown",
      "metadata": {
        "id": "e5bd7b16"
      },
      "source": [
        "### !"
      ]
    },
    {
      "cell_type": "markdown",
      "metadata": {
        "id": "00d16354"
      },
      "source": [
        "Будьте осторожны, если ключа, по которому поступил запрос, нет в словаре, то выбросит исключение:"
      ]
    },
    {
      "cell_type": "code",
      "execution_count": null,
      "metadata": {
        "id": "e6f9c0b2"
      },
      "outputs": [],
      "source": [
        "d = {1: 100, 2: 200, 3: 300}\n",
        "d['a']"
      ]
    },
    {
      "cell_type": "markdown",
      "metadata": {
        "id": "b5d9593e"
      },
      "source": [
        "Поэтому безопаснее использовать **get(key)**. Тогда, если нужно, можно проверить на **None**:"
      ]
    },
    {
      "cell_type": "code",
      "execution_count": null,
      "metadata": {
        "id": "bd89d0a7"
      },
      "outputs": [],
      "source": [
        "d.get(1)"
      ]
    },
    {
      "cell_type": "code",
      "execution_count": null,
      "metadata": {
        "id": "2b215934"
      },
      "outputs": [],
      "source": [
        "d.get('a') == None"
      ]
    },
    {
      "cell_type": "markdown",
      "metadata": {
        "id": "841c9b69"
      },
      "source": [
        "Самое часто используемое - получение ключей, получение значений и получение всего вместе:"
      ]
    },
    {
      "cell_type": "code",
      "execution_count": null,
      "metadata": {
        "id": "ccd68656"
      },
      "outputs": [],
      "source": [
        "# получить список ключей\n",
        "print(d.keys(), '|', type(d.keys()))\n",
        "\n",
        "# чтобы вывести ключи, нужно привести d.keys() к списку\n",
        "print(list(d.keys()))"
      ]
    },
    {
      "cell_type": "code",
      "execution_count": null,
      "metadata": {
        "id": "8b84a911"
      },
      "outputs": [],
      "source": [
        "# получить список значений\n",
        "print(d.values(), '|', type(d.values()))\n",
        "\n",
        "# то же самое -- чтобы вывести значения, нужно привести d.values() к списку\n",
        "print(list(d.values()))"
      ]
    },
    {
      "cell_type": "code",
      "execution_count": null,
      "metadata": {
        "id": "29367fdf"
      },
      "outputs": [],
      "source": [
        "# получить список пар ключ-значение\n",
        "print(d.items(), '|', type(d.items()))\n",
        "\n",
        "# то же самое -- чтобы вывести пары ключ-значения, нужно привести d.items() к списку\n",
        "print(list(d.items()))"
      ]
    },
    {
      "cell_type": "code",
      "execution_count": null,
      "metadata": {
        "id": "7de9bc8a"
      },
      "outputs": [],
      "source": []
    },
    {
      "cell_type": "markdown",
      "metadata": {
        "id": "V6jFmfK6iZRz"
      },
      "source": [
        "### 7. Множества (set)\n",
        "\n",
        "Множество -- это массив, в котором элементы не могут повторяться (то есть, как и в математическом определении множества)\n",
        "\n",
        "Внутри языка множество устроено совсем не так, как массив или кортеж, элементы множества хранятся не последовательно, поэтому к элементам множества нельзя обрашаться по индексу.\n",
        "\n",
        "В основе set тоже лежит хэш-таблица"
      ]
    },
    {
      "cell_type": "markdown",
      "source": [
        "Пустое множество можно создать с помощью set():"
      ],
      "metadata": {
        "id": "i9fVwAOkjrsB"
      }
    },
    {
      "cell_type": "code",
      "source": [
        "s = set()\n",
        "\n",
        "print(s, '|', type(s))"
      ],
      "metadata": {
        "colab": {
          "base_uri": "https://localhost:8080/"
        },
        "id": "a1ArCGPjjwbH",
        "outputId": "d17788c5-130b-4abc-b619-60267d120aae"
      },
      "execution_count": null,
      "outputs": [
        {
          "output_type": "stream",
          "name": "stdout",
          "text": [
            "set() | <class 'set'>\n"
          ]
        }
      ]
    },
    {
      "cell_type": "markdown",
      "source": [
        "А можно привести список к множеству:\n",
        "\n",
        "Обратите внимание, что элементы set'а выводятся в отсортированном порядке!"
      ],
      "metadata": {
        "id": "2tdcx3bvj1y_"
      }
    },
    {
      "cell_type": "code",
      "source": [
        "s = set([5, 2, 3, 2])\n",
        "s"
      ],
      "metadata": {
        "colab": {
          "base_uri": "https://localhost:8080/"
        },
        "id": "ZqpyV1X6j62P",
        "outputId": "681221ac-56c7-4662-b313-e9ede35325c1"
      },
      "execution_count": null,
      "outputs": [
        {
          "output_type": "execute_result",
          "data": {
            "text/plain": [
              "{2, 3, 5}"
            ]
          },
          "metadata": {},
          "execution_count": 2
        }
      ]
    },
    {
      "cell_type": "markdown",
      "metadata": {
        "id": "159f4898"
      },
      "source": [
        "Можно добавлять элементы в множество с помощью метода `.add()`:"
      ]
    },
    {
      "cell_type": "code",
      "execution_count": null,
      "metadata": {
        "id": "e849326c"
      },
      "outputs": [],
      "source": [
        "s.add(1)\n",
        "s.add('a')\n",
        "# None тоже можно добавить =)\n",
        "s.add(None)\n",
        "s.add('bullet')\n",
        "print(s)"
      ]
    },
    {
      "cell_type": "markdown",
      "metadata": {
        "id": "8a165a71"
      },
      "source": [
        "Метод .difference() позволяет получить элементы, которые есть в одном сете, но нет в другом:"
      ]
    },
    {
      "cell_type": "code",
      "execution_count": null,
      "metadata": {
        "id": "f1090d6b"
      },
      "outputs": [],
      "source": [
        "s1 = set(range(0, 10))\n",
        "s2 = set(range(5, 15))\n",
        "\n",
        "print('s1: ', s1, '\\ns2: ', s2)"
      ]
    },
    {
      "cell_type": "code",
      "execution_count": null,
      "metadata": {
        "id": "f29a664a"
      },
      "outputs": [],
      "source": [
        "# элементы, которые есть в s1, но нет в s2\n",
        "print(s1.difference(s2))\n",
        "print()\n",
        "# элементы, которые есть в s2, но нет в s1\n",
        "print(s2.difference(s1))"
      ]
    },
    {
      "cell_type": "code",
      "execution_count": null,
      "metadata": {
        "id": "3e7e2096"
      },
      "outputs": [],
      "source": [
        "# пересечение множеств s1 и s2 можно записать двумя способами:\n",
        "print(s1.intersection(s2))\n",
        "print(s1 & s2)"
      ]
    },
    {
      "cell_type": "code",
      "execution_count": null,
      "metadata": {
        "id": "26ebd738"
      },
      "outputs": [],
      "source": [
        "# объединение множеств s1 и s2 тоже можно записать двумя способами:\n",
        "print(s1.union(s2))\n",
        "print(s1 | s2)"
      ]
    },
    {
      "cell_type": "markdown",
      "metadata": {
        "id": "ed76ae06"
      },
      "source": [
        "Из сета можно удалить элемент по значению:"
      ]
    },
    {
      "cell_type": "code",
      "execution_count": null,
      "metadata": {
        "id": "4016717d"
      },
      "outputs": [],
      "source": [
        "s1.discard(0)\n",
        "s1"
      ]
    },
    {
      "cell_type": "code",
      "execution_count": null,
      "metadata": {
        "id": "NVSVFMBsiZRz",
        "outputId": "44b905aa-0e1e-4991-a8c6-f830fe9cc394"
      },
      "outputs": [
        {
          "data": {
            "text/plain": [
              "({1, 2, 3, 5}, {2, 3, 4, 5, 6})"
            ]
          },
          "execution_count": 17,
          "metadata": {},
          "output_type": "execute_result"
        }
      ],
      "source": [
        "a = {1, 2, 3}\n",
        "b = set([2, 3, 4])\n",
        "\n",
        "a.add(5)\n",
        "b.update({5, 6}) # объединить множество с другим множеством\n",
        "a, b"
      ]
    },
    {
      "cell_type": "code",
      "execution_count": null,
      "metadata": {
        "id": "i1fQniPFiZRz",
        "outputId": "8f5f0b91-ea4f-47c3-9143-9115586f8406"
      },
      "outputs": [
        {
          "name": "stdout",
          "output_type": "stream",
          "text": [
            "True\n",
            "False\n",
            "False\n",
            "False\n",
            "False\n"
          ]
        }
      ],
      "source": [
        "print(3 in b)\n",
        "print(5 not in b)\n",
        "print(b.issubset(a))   # equivalent to b <= a\n",
        "print(a.issuperset(b)) # equivalent to a >= b\n",
        "print(a.isdisjoint(b)) # True если пустое пересечение; equivalent to \"not a & b\""
      ]
    },
    {
      "cell_type": "code",
      "execution_count": null,
      "metadata": {
        "id": "S_-aRosBiZR0",
        "outputId": "4cd34ab8-a53f-4b43-ba8c-ebfd0e242212"
      },
      "outputs": [
        {
          "name": "stdout",
          "output_type": "stream",
          "text": [
            "{1}\n",
            "{4, 6}\n",
            "{1, 2, 3, 4, 5, 6}\n",
            "{2, 3, 5}\n",
            "{1, 4, 6}\n"
          ]
        }
      ],
      "source": [
        "print (a - b)\n",
        "print (b - a)\n",
        "print (a | b) # объединение\n",
        "print (a & b) # пересечение\n",
        "print (a ^ b) # ~ XOR"
      ]
    },
    {
      "cell_type": "code",
      "execution_count": null,
      "metadata": {
        "id": "tvS0SxociZR0"
      },
      "outputs": [],
      "source": [
        "a.difference(b)             # a - b\n",
        "a.union(b)                  # a | b\n",
        "a.intersection(b)           # a & b\n",
        "a.symmetric_difference(b)   # a ^ b\n",
        "\n",
        "a.difference_update(b)            # a -= b\n",
        "a.update(b)                       # a |= b\n",
        "a.intersection_update(b)          # a &= b\n",
        "a.symmetric_difference_update(b)  # a ^= b"
      ]
    },
    {
      "cell_type": "code",
      "execution_count": null,
      "metadata": {
        "id": "4ktYnK-WiZR0",
        "outputId": "7bee60a3-4a20-4372-b905-5817f3718af8"
      },
      "outputs": [
        {
          "ename": "KeyError",
          "evalue": "3",
          "output_type": "error",
          "traceback": [
            "\u001b[0;31m---------------------------------------------------------------------------\u001b[0m",
            "\u001b[0;31mKeyError\u001b[0m                                  Traceback (most recent call last)",
            "Cell \u001b[0;32mIn [23], line 3\u001b[0m\n\u001b[1;32m      1\u001b[0m a \u001b[38;5;241m=\u001b[39m {\u001b[38;5;241m1\u001b[39m,\u001b[38;5;241m2\u001b[39m,\u001b[38;5;241m3\u001b[39m}\n\u001b[1;32m      2\u001b[0m a\u001b[38;5;241m.\u001b[39mremove(\u001b[38;5;241m3\u001b[39m)\n\u001b[0;32m----> 3\u001b[0m \u001b[43ma\u001b[49m\u001b[38;5;241;43m.\u001b[39;49m\u001b[43mremove\u001b[49m\u001b[43m(\u001b[49m\u001b[38;5;241;43m3\u001b[39;49m\u001b[43m)\u001b[49m\n",
            "\u001b[0;31mKeyError\u001b[0m: 3"
          ]
        }
      ],
      "source": [
        "a = {1,2,3}\n",
        "a.remove(3)\n",
        "a.remove(3)"
      ]
    },
    {
      "cell_type": "code",
      "execution_count": null,
      "metadata": {
        "id": "SPSTE7CTiZR0",
        "outputId": "58943bc9-d496-4e40-c703-e9ad0bbd7fc6"
      },
      "outputs": [
        {
          "data": {
            "text/plain": [
              "{1, 2}"
            ]
          },
          "execution_count": 24,
          "metadata": {},
          "output_type": "execute_result"
        }
      ],
      "source": [
        "a = {1,2,3}\n",
        "a.discard(3)\n",
        "a.discard(3)\n",
        "a"
      ]
    },
    {
      "cell_type": "markdown",
      "metadata": {
        "id": "tKTs30e2iZR0"
      },
      "source": [
        "Существуют и генераторы множеств"
      ]
    },
    {
      "cell_type": "code",
      "execution_count": null,
      "metadata": {
        "id": "LbLR69oeiZR0",
        "outputId": "1a1794b6-022a-45de-d2e7-5a38b8ae21ce"
      },
      "outputs": [
        {
          "data": {
            "text/plain": [
              "{0, 3, 6, 9}"
            ]
          },
          "execution_count": 25,
          "metadata": {},
          "output_type": "execute_result"
        }
      ],
      "source": [
        "st = {i for i in range(10) if not i % 3}\n",
        "st"
      ]
    },
    {
      "cell_type": "code",
      "execution_count": null,
      "metadata": {
        "id": "PFmH2PPQiZR0",
        "outputId": "2bd79509-9bbc-4d17-8407-8f7ea92f1c22"
      },
      "outputs": [
        {
          "ename": "TypeError",
          "evalue": "unhashable type: 'set'",
          "output_type": "error",
          "traceback": [
            "\u001b[0;31m---------------------------------------------------------------------------\u001b[0m",
            "\u001b[0;31mTypeError\u001b[0m                                 Traceback (most recent call last)",
            "Cell \u001b[0;32mIn [26], line 1\u001b[0m\n\u001b[0;32m----> 1\u001b[0m d \u001b[38;5;241m=\u001b[39m {st: \u001b[38;5;241m1\u001b[39m} \u001b[38;5;66;03m# set тоже не является хэшируемым\u001b[39;00m\n",
            "\u001b[0;31mTypeError\u001b[0m: unhashable type: 'set'"
          ]
        }
      ],
      "source": [
        "d = {st: 1} # set тоже не является хэшируемым"
      ]
    },
    {
      "cell_type": "code",
      "execution_count": null,
      "metadata": {
        "id": "XQTU4RCUiZR0",
        "outputId": "62e34a1a-854a-455d-ae5b-58a9dde8a089"
      },
      "outputs": [
        {
          "data": {
            "text/plain": [
              "{frozenset({0, 3, 6, 9}): 6}"
            ]
          },
          "execution_count": 27,
          "metadata": {},
          "output_type": "execute_result"
        }
      ],
      "source": [
        "d = {frozenset(st): 6}  # а вот frozenset уже можно хэшировать, так как он является неизменяемым объектом\n",
        "d"
      ]
    },
    {
      "cell_type": "markdown",
      "metadata": {
        "id": "EzWqHexQiZR1"
      },
      "source": [
        "# Для чего удобно использовать dict и set?\n",
        "\n",
        "### Установление однозначного соответствия каждому объекту из множества ключей какого-то другого объекта (условно можно удобно реализовать словарь для перевода с одного языка на другой)\n",
        "\n",
        "### Для подсчета уникальных элементов в списке/уникальных слов в тексте\n",
        "\n",
        "### Для быстрой проверки элемента на вхождение: поиск по ключу в dict и set выполняется за O(1) (в среднем): от объекта вычисляется хэш и проверяется, есть ли такой хэш в контейнере"
      ]
    },
    {
      "cell_type": "code",
      "execution_count": null,
      "metadata": {
        "id": "TUXnH3KpiZR1",
        "outputId": "1dfabb89-272f-4da5-8d74-929a4af74afe"
      },
      "outputs": [
        {
          "data": {
            "text/plain": [
              "True"
            ]
          },
          "execution_count": 28,
          "metadata": {},
          "output_type": "execute_result"
        }
      ],
      "source": [
        "2 in a     # O(1)"
      ]
    },
    {
      "cell_type": "markdown",
      "metadata": {
        "id": "_WJTCxSdiZR1"
      },
      "source": [
        "### 8. collections\n",
        "Объекты в collections - модифицированные для разных нужд словари и еще несколько удобных структур данных.\n",
        "\n",
        "Хороший краткий обзор модуля collections можно почитать [здесь](https://pythonworld.ru/moduli/modul-collections.html)"
      ]
    },
    {
      "cell_type": "code",
      "execution_count": null,
      "metadata": {
        "id": "gPy1cH1DiZR1",
        "outputId": "32093da2-153a-4c2f-aa61-2bdb2d8af327"
      },
      "outputs": [
        {
          "name": "stdout",
          "output_type": "stream",
          "text": [
            "0.0\n",
            "defaultdict(<class 'float'>, {2: 0.0})\n"
          ]
        }
      ],
      "source": [
        "from collections import defaultdict\n",
        "dct = defaultdict(float)\n",
        "\n",
        "print(dct[2]) # если ключа нет, то устанавливает дефолтное значение\n",
        "print(dct)"
      ]
    },
    {
      "cell_type": "code",
      "execution_count": null,
      "metadata": {
        "id": "vtMwH-eeiZR1",
        "outputId": "843007d4-e715-407c-d1d9-ace431ba641e"
      },
      "outputs": [
        {
          "name": "stdout",
          "output_type": "stream",
          "text": [
            "9 deque([0, 1, 2, 3, 4, 5, 6, 7, 8])\n",
            "8 deque([0, 1, 2, 3, 4, 5, 6, 7])\n",
            "7 deque([0, 1, 2, 3, 4, 5, 6])\n",
            "6 deque([0, 1, 2, 3, 4, 5])\n",
            "5 deque([0, 1, 2, 3, 4])\n",
            "\n",
            "0 deque([1, 2, 3, 4])\n",
            "1 deque([2, 3, 4])\n",
            "2 deque([3, 4])\n",
            "3 deque([4])\n",
            "4 deque([])\n"
          ]
        }
      ],
      "source": [
        "from collections import deque\n",
        "q = deque()\n",
        "\n",
        "for i in range(10):\n",
        "    q.append(i)\n",
        "\n",
        "while len(q) > 5:\n",
        "    print(q.pop(), q) # O(1)\n",
        "\n",
        "print()\n",
        "\n",
        "while len(q):  # пока дек не пуст\n",
        "    print(q.popleft(), q) # O(1)"
      ]
    },
    {
      "cell_type": "code",
      "execution_count": null,
      "metadata": {
        "id": "tSW8Cm27iZR1",
        "outputId": "1ac3691c-1fae-47ce-cd2b-0b880d1da1f9"
      },
      "outputs": [
        {
          "name": "stdout",
          "output_type": "stream",
          "text": [
            "{1: 'a', 3: 'c', 2: 'b'}\n",
            "OrderedDict([(1, 'a'), (3, 'c'), (2, 'b')])\n"
          ]
        }
      ],
      "source": [
        "from collections import OrderedDict # помнит порядок, в котором ему были даны ключи\n",
        "\n",
        "# C 3.7 версии сохранение порядка гарантируется и для dict, но:\n",
        "# Операция сравнения для обычных диктов всё ещё не учитывает порядок в отличие от OrderedDict\n",
        "# А ещё у OrderedDict есть метод move_to_end (подвинуть существующий элемент в конец), которого нет в дикте\n",
        "\n",
        "data = [(1, 'a'), (3, 'c'), (2, 'b')]\n",
        "\n",
        "print(dict(data))\n",
        "print(OrderedDict(data))"
      ]
    },
    {
      "cell_type": "code",
      "execution_count": null,
      "metadata": {
        "id": "3ILJzN9NiZR2",
        "outputId": "f109d525-93e4-47c0-d244-bb2ee682f4c7"
      },
      "outputs": [
        {
          "ename": "ImportError",
          "evalue": "cannot import name 'OrderedSet' from 'collections' (/usr/lib/python3.9/collections/__init__.py)",
          "output_type": "error",
          "traceback": [
            "\u001b[0;31m---------------------------------------------------------------------------\u001b[0m",
            "\u001b[0;31mImportError\u001b[0m                               Traceback (most recent call last)",
            "Cell \u001b[0;32mIn [33], line 1\u001b[0m\n\u001b[0;32m----> 1\u001b[0m \u001b[38;5;28;01mfrom\u001b[39;00m \u001b[38;5;21;01mcollections\u001b[39;00m \u001b[38;5;28;01mimport\u001b[39;00m OrderedSet\n",
            "\u001b[0;31mImportError\u001b[0m: cannot import name 'OrderedSet' from 'collections' (/usr/lib/python3.9/collections/__init__.py)"
          ]
        }
      ],
      "source": [
        "from collections import OrderedSet"
      ]
    },
    {
      "cell_type": "code",
      "execution_count": null,
      "metadata": {
        "id": "fnWZY-iKiZR2",
        "outputId": "d7d7b7e6-8417-41ce-8a40-de4db47190c9"
      },
      "outputs": [
        {
          "data": {
            "text/plain": [
              "{1, 4, 5}"
            ]
          },
          "execution_count": 35,
          "metadata": {},
          "output_type": "execute_result"
        }
      ],
      "source": [
        "{1, 5, 4} #set"
      ]
    },
    {
      "cell_type": "code",
      "execution_count": null,
      "metadata": {
        "id": "DT2cDgJTiZR2",
        "outputId": "b17498d9-4356-4bd3-e28c-f391183ac08d"
      },
      "outputs": [
        {
          "data": {
            "text/plain": [
              "{1: 1, 5: 5, 4: 4}"
            ]
          },
          "execution_count": 37,
          "metadata": {},
          "output_type": "execute_result"
        }
      ],
      "source": [
        "{1: 1, 5: 5, 4: 4} #dict"
      ]
    },
    {
      "cell_type": "code",
      "execution_count": null,
      "metadata": {
        "id": "E4EL9XXbiZR2",
        "outputId": "17bdf70f-63a3-4e84-f9d2-ac8a09b14f59"
      },
      "outputs": [
        {
          "name": "stdout",
          "output_type": "stream",
          "text": [
            "Counter({'counter': 3, 'spam': 2, 'egg': 1})\n",
            "3\n",
            "0\n"
          ]
        }
      ],
      "source": [
        "from collections import Counter\n",
        "\n",
        "word_counter = Counter()\n",
        "\n",
        "for word in ['spam', 'egg', 'spam', 'counter', 'counter', 'counter']:\n",
        "    word_counter[word] += 1\n",
        "\n",
        "print(word_counter)\n",
        "print(word_counter['counter'])\n",
        "print(word_counter['collections'])\n"
      ]
    },
    {
      "cell_type": "code",
      "execution_count": null,
      "metadata": {
        "id": "4y0Soo0giZR2",
        "outputId": "22965bdf-2320-414a-977b-e346015d5e36"
      },
      "outputs": [
        {
          "data": {
            "text/plain": [
              "['a', 'a', 'a', 'a', 'b', 'b']"
            ]
          },
          "execution_count": 5,
          "metadata": {},
          "output_type": "execute_result"
        }
      ],
      "source": [
        "c = Counter(a=4, b=2, c=0, d=-2)\n",
        "\n",
        "list(c.elements())"
      ]
    },
    {
      "cell_type": "code",
      "execution_count": null,
      "metadata": {
        "id": "F4iSKDeciZR2",
        "outputId": "4674cb60-6cb7-4251-8b89-8b7eef0883da"
      },
      "outputs": [
        {
          "data": {
            "text/plain": [
              "[('a', 5), ('b', 2), ('r', 2)]"
            ]
          },
          "execution_count": 6,
          "metadata": {},
          "output_type": "execute_result"
        }
      ],
      "source": [
        "Counter('abracadabra').most_common(3)"
      ]
    },
    {
      "cell_type": "code",
      "execution_count": null,
      "metadata": {
        "id": "RbHjt_CSiZR2",
        "outputId": "36e86927-62cc-491b-f134-8b0adc237978"
      },
      "outputs": [
        {
          "name": "stdout",
          "output_type": "stream",
          "text": [
            "Counter({'a': 4, 'b': 2, 'c': 0, 'd': -2}) Counter({'d': 4, 'c': 3, 'b': 2, 'a': 1})\n",
            "Counter({'a': 3, 'b': 0, 'c': -3, 'd': -6}) Counter({'d': 4, 'c': 3, 'b': 2, 'a': 1})\n"
          ]
        }
      ],
      "source": [
        "c = Counter(a=4, b=2, c=0, d=-2)\n",
        "d = Counter(a=1, b=2, c=3, d=4)\n",
        "\n",
        "print(c, d)\n",
        "\n",
        "c.subtract(d)\n",
        "\n",
        "print(c, d)"
      ]
    },
    {
      "cell_type": "code",
      "execution_count": null,
      "metadata": {
        "id": "IhNyIh9UiZR3",
        "outputId": "9a1962a5-945f-41d6-b326-095487e55331"
      },
      "outputs": [
        {
          "name": "stdout",
          "output_type": "stream",
          "text": [
            "Counter({'k': 7, 'a': 4, 'b': 2, 'c': 0, 'd': -2, 'f': -2})\n",
            "Counter({'e': 8, 'd': 4, 'c': 3, 'b': 2, 'a': 1, 'f': -4})\n",
            "\n",
            "Counter({'e': 8, 'k': 7, 'a': 5, 'b': 4, 'c': 3, 'd': 2})\n",
            "Counter({'k': 7, 'a': 3, 'f': 2})\n",
            "Counter({'e': 8, 'k': 7, 'a': 4, 'd': 4, 'c': 3, 'b': 2})\n",
            "Counter({'b': 2, 'a': 1})\n",
            "Counter({'e': 8, 'k': 7, 'a': 5, 'b': 4, 'c': 3, 'd': 2, 'f': -6})\n"
          ]
        }
      ],
      "source": [
        "a = Counter(a=4, b=2, c=0, d=-2, k=7, f=-2)\n",
        "b = Counter(a=1, b=2, c=3, d=4, e=8, f=-4)\n",
        "\n",
        "print(a)\n",
        "print(b)\n",
        "\n",
        "print()\n",
        "\n",
        "print(a + b)\n",
        "print(a - b)\n",
        "print(a | b)\n",
        "print(a & b)\n",
        "\n",
        "a.update(b)\n",
        "print(a)"
      ]
    },
    {
      "cell_type": "code",
      "execution_count": null,
      "metadata": {
        "id": "AA2bdZ4FiZR3",
        "outputId": "973563b8-2e12-4b35-dc93-bd3fdb676020"
      },
      "outputs": [
        {
          "name": "stdout",
          "output_type": "stream",
          "text": [
            "Point(x=1, y=3)\n",
            "1 3\n"
          ]
        }
      ],
      "source": [
        "from collections import namedtuple\n",
        "\n",
        "Point = namedtuple('Point', ['x', 'y'])\n",
        "\n",
        "point = Point(x = 1, y = 3)\n",
        "\n",
        "print(point)\n",
        "print(point.x, point.y)"
      ]
    },
    {
      "cell_type": "code",
      "execution_count": null,
      "metadata": {
        "id": "EkXmKmrqiZR3"
      },
      "outputs": [],
      "source": []
    }
  ],
  "metadata": {
    "celltoolbar": "Slideshow",
    "kernelspec": {
      "display_name": "Python 3 (ipykernel)",
      "language": "python",
      "name": "python3"
    },
    "language_info": {
      "codemirror_mode": {
        "name": "ipython",
        "version": 3
      },
      "file_extension": ".py",
      "mimetype": "text/x-python",
      "name": "python",
      "nbconvert_exporter": "python",
      "pygments_lexer": "ipython3",
      "version": "3.9.2"
    },
    "colab": {
      "provenance": [],
      "include_colab_link": true
    }
  },
  "nbformat": 4,
  "nbformat_minor": 0
}